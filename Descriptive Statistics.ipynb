{
 "cells": [
  {
   "cell_type": "code",
   "execution_count": 6,
   "id": "c223540c-7ad8-42e0-b57b-4255277080ae",
   "metadata": {},
   "outputs": [
    {
     "name": "stdout",
     "output_type": "stream",
     "text": [
      "ZARA - Descriptive Statistics:\n",
      "\n",
      "       Sales Volume       Price  Product Performance\n",
      "count    250.000000  250.000000           250.000000\n",
      "mean    1822.224000   85.230560             0.500000\n",
      "std      700.136055   50.440938             0.501003\n",
      "min      529.000000    7.990000             0.000000\n",
      "25%     1239.000000   49.900000             0.000000\n",
      "50%     1836.500000   74.945000             0.500000\n",
      "75%     2402.250000  109.000000             1.000000\n",
      "max     2989.000000  439.000000             1.000000\n"
     ]
    }
   ],
   "source": [
    "#==========================ZARA=====================\n",
    "\n",
    "# Import necessary library\n",
    "import pandas as pd\n",
    "\n",
    "# Here I am loading the Zara dataset\n",
    "zara_data = pd.read_csv(\"C:\\\\Users\\\\ROHIT PAUL\\\\Desktop\\\\Dissertation Dataset\\\\ZARA.csv\")\n",
    "\n",
    "# This piece of code selects the relevant columns from the data file\n",
    "Columns_zara = ['Sales Volume', 'Price', 'Product Performance']\n",
    "\n",
    "# Generating the descriptive statistics for Zara and declaring a variable Zara_d_stats\n",
    "Zara_d_stats = zara_data[Columns_zara].describe()\n",
    "\n",
    "# Printing the result\n",
    "print(\"ZARA - Descriptive Statistics:\\n\")\n",
    "print(Zara_d_stats)\n"
   ]
  },
  {
   "cell_type": "code",
   "execution_count": 18,
   "id": "6ca3a87f-4cd4-4f81-8c7e-e3304781fb78",
   "metadata": {},
   "outputs": [
    {
     "name": "stdout",
     "output_type": "stream",
     "text": [
      "H&M - Descriptive Statistics:\n",
      "\n",
      "             Sales   Quantity   Discount       Profit\n",
      "count    99.000000  99.000000  99.000000    99.000000\n",
      "mean    216.564724   3.707071   0.155253    -1.257668\n",
      "std     430.175355   2.041671   0.208949   182.722927\n",
      "min       1.248000   1.000000   0.000000 -1665.052200\n",
      "25%      17.982000   2.000000   0.000000     2.620200\n",
      "50%      60.340000   3.000000   0.100000     8.035200\n",
      "75%     204.572000   5.000000   0.200000    18.867400\n",
      "max    3083.430000   9.000000   0.800000   298.685500\n"
     ]
    }
   ],
   "source": [
    "#==========================h&M=====================\n",
    "\n",
    "import pandas as pd\n",
    "\n",
    "# Here I am loading the H&M dataset\n",
    "hm_data = pd.read_excel(\"C:\\\\Users\\\\ROHIT PAUL\\\\Desktop\\\\Dissertation Dataset\\\\H&M.xlsx\")\n",
    "\n",
    "# This piece of code selects the relevant transaction columns from the data file\n",
    "Columns_hm = ['Sales', 'Quantity', 'Discount', 'Profit']\n",
    "\n",
    "# Generating the descriptive statistics for H&M and declaring a variable hm_d_stats\n",
    "hm_d_stats = hm_data[Columns_hm].describe()\n",
    "\n",
    "# Printing the result\n",
    "print(\"H&M - Descriptive Statistics:\\n\")\n",
    "print(hm_d_stats)\n"
   ]
  },
  {
   "cell_type": "code",
   "execution_count": 16,
   "id": "02011f00-1f82-4082-9986-09bba67b0ee1",
   "metadata": {},
   "outputs": [
    {
     "name": "stdout",
     "output_type": "stream",
     "text": [
      "ASOS - Descriptive Statistics:\n",
      "\n",
      "              Price\n",
      "count  30501.000000\n",
      "mean      41.008227\n",
      "std       33.145681\n",
      "min        3.000000\n",
      "25%       21.000000\n",
      "50%       32.000000\n",
      "75%       49.500000\n",
      "max      550.000000\n"
     ]
    }
   ],
   "source": [
    "#==========================ASOS=====================\n",
    "\n",
    "import pandas as pd\n",
    "\n",
    "# loading the ASOS dataset\n",
    "asos_data = pd.read_csv(\"C:\\\\Users\\\\ROHIT PAUL\\\\Desktop\\\\Dissertation Dataset\\\\ASOS Products.csv\")\n",
    "\n",
    "# Generating the descriptive statistics for ASOS and declaring a variable asos_d_stats\n",
    "asos_d_stats = asos_data[['Price']].describe()\n",
    "\n",
    "# Printing the result\n",
    "print(\"ASOS - Descriptive Statistics:\\n\")\n",
    "print(asos_d_stats)\n"
   ]
  },
  {
   "cell_type": "code",
   "execution_count": 14,
   "id": "07b0374f-536e-401f-9c9b-e3d705cbf716",
   "metadata": {},
   "outputs": [
    {
     "name": "stdout",
     "output_type": "stream",
     "text": [
      "FashionNova - Descriptive Statistics:\n",
      "\n",
      "        Review Count         Rating\n",
      "count  131976.000000  131976.000000\n",
      "mean        1.581219       4.275186\n",
      "std         1.719217       1.288290\n",
      "min         1.000000       1.000000\n",
      "25%         1.000000       4.000000\n",
      "50%         1.000000       5.000000\n",
      "75%         2.000000       5.000000\n",
      "max       173.000000       5.000000\n"
     ]
    }
   ],
   "source": [
    "#==========================FASHION NOVA=====================\n",
    "\n",
    "import pandas as pd\n",
    "\n",
    "# Loading the FashionNova dataset\n",
    "fn_data = pd.read_csv(\"C:\\\\Users\\\\ROHIT PAUL\\\\Desktop\\\\Dissertation Dataset\\\\FASHION NOVA Product Level.csv\")\n",
    "\n",
    "# This piece of code selects the relevant transaction columns from the data file\n",
    "Columns_fn = [col for col in fn_data.columns \n",
    "                         if col.lower() in ['review count', 'rating', 'sentiment_score', 'high_performance']]\n",
    "\n",
    "# Generating the descriptive statistics for Fashion Nova and declaring a variable fn_d_stats\n",
    "fn_d_stats = fn_data[Columns_fn].describe()\n",
    "\n",
    "# Printing the result\n",
    "print(\"FashionNova - Descriptive Statistics:\\n\")\n",
    "print(fn_d_stats)\n"
   ]
  },
  {
   "cell_type": "code",
   "execution_count": null,
   "id": "1ed2d5ad-b851-464a-8e7a-2ee55b379ed7",
   "metadata": {},
   "outputs": [],
   "source": []
  }
 ],
 "metadata": {
  "kernelspec": {
   "display_name": "Python 3 (ipykernel)",
   "language": "python",
   "name": "python3"
  },
  "language_info": {
   "codemirror_mode": {
    "name": "ipython",
    "version": 3
   },
   "file_extension": ".py",
   "mimetype": "text/x-python",
   "name": "python",
   "nbconvert_exporter": "python",
   "pygments_lexer": "ipython3",
   "version": "3.12.7"
  }
 },
 "nbformat": 4,
 "nbformat_minor": 5
}
